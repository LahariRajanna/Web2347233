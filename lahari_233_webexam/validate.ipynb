{
 "cells": [
  {
   "cell_type": "code",
   "execution_count": null,
   "metadata": {},
   "outputs": [],
   "source": [
    "from xml.etree.ElementTree import XMLSchema\n",
    "\n",
    "xml_file = \"jokes.xml\"\n",
    "xsd_file = \"jokes.xsd\"\n",
    "\n",
    "validator = xmlschema.XMLSchema(xsd_file)\n",
    "if validator.is_valid(xml_file):\n",
    "    print(\"XML file is valid against the XSD schema.\")\n",
    "else:\n",
    "    print(\"XML file is not valid against the XSD schema.\")\n",
    "    print(validator.validate(xml_file))"
   ]
  }
 ],
 "metadata": {
  "language_info": {
   "name": "python"
  },
  "orig_nbformat": 4
 },
 "nbformat": 4,
 "nbformat_minor": 2
}
