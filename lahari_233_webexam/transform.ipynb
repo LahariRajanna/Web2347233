{
 "cells": [
  {
   "cell_type": "code",
   "execution_count": null,
   "metadata": {},
   "outputs": [],
   "source": [
    "import lxml.etree as ET\n",
    "\n",
    "# Load XML and XSLT files\n",
    "xml_file = 'jokes.xml'\n",
    "xslt_file = 'jokes.xslt'\n",
    "\n",
    "xml_doc = ET.parse(xml_file)\n",
    "xslt = ET.parse(xslt_file)\n",
    "\n",
    "# Transform XML to HTML\n",
    "transform = ET.XSLT(xslt)\n",
    "result_tree = transform(xml_doc)\n",
    "\n",
    "# Print or save the HTML output\n",
    "html_output = ET.tostring(result_tree, pretty_print=True)\n",
    "print(html_output.decode())\n"
   ]
  }
 ],
 "metadata": {
  "language_info": {
   "name": "python"
  },
  "orig_nbformat": 4
 },
 "nbformat": 4,
 "nbformat_minor": 2
}
